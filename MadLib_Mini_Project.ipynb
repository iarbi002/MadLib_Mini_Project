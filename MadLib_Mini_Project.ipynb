{
 "cells": [
  {
   "cell_type": "code",
   "execution_count": 2,
   "metadata": {},
   "outputs": [
    {
     "name": "stdin",
     "output_type": "stream",
     "text": [
      "Write an adjective:  cool\n",
      "Write an adverb:  boldly\n",
      "Write a body part:  head\n",
      "Write a color:  purple\n",
      "Write an event:  party\n",
      "Write a food:  beans\n",
      "Write a fruit:  strawberries\n",
      "Write a liquid:  water\n",
      "Write a material:  wood\n",
      "Write a name:  Isabela\n",
      "Write a noun:  puppy\n",
      "Write a plural noun:  babies\n",
      "Write a number:  7\n",
      "Write a place:  Atlanta\n",
      "Write a vegetable:  carrot\n",
      "Write a verb:  eat\n"
     ]
    }
   ],
   "source": [
    "Adjective = input (\"Write an adjective: \")\n",
    "Adverb = input (\"Write an adverb: \")\n",
    "Body_Part = input (\"Write a body part: \")\n",
    "Color = input (\"Write a color: \")\n",
    "Event = input (\"Write an event: \")\n",
    "Food = input (\"Write a food: \")\n",
    "Fruit = input (\"Write a fruit: \")\n",
    "Liquid = input (\"Write a liquid: \")\n",
    "Material = input (\"Write a material: \")\n",
    "Name = input (\"Write a name: \")\n",
    "Noun = input (\"Write a noun: \")\n",
    "Noun_Plural = input (\"Write a plural noun: \")\n",
    "Number = input (\"Write a number: \")\n",
    "Place = input (\"Write a place: \")\n",
    "Vegetable = input (\"Write a vegetable: \")\n",
    "Verb = input (\"Write a verb: \")"
   ]
  },
  {
   "cell_type": "code",
   "execution_count": 3,
   "metadata": {},
   "outputs": [
    {
     "name": "stdout",
     "output_type": "stream",
     "text": [
      "Isabela the squirrel had just climbed up the cool tree. It was the first day of autumn and time to gather as many babies for winter feasting.\n",
      "Hi, I'm Isabela. I'm a marketing professional! It's a sweet job! My day typically begins at 7 a.m. with a cup of lukewarm water and some stale beans.\n",
      "Pizza was invented by a cool chef named Isabela. To make pizza, you need to take a lump of puppy, and make a thin, round cool puppy.\n",
      "Here is a list of the most cool horror movies ever made in Hollywood! Each of these 7 films received a rating of head-up from Siskel and Ebert.\n",
      "Okay, so I was eat! I'm a kid, I'm supposed to snoop, especially around party time! Who doesn't snoop?!\n",
      "A bite of the saffron beans, and you're back in sunny Atlanta. A spooful of the housemade water is deeply satisfying, like a great lost love scene between Miranda July and Isabela.\n",
      "More babies around the world eat bycicles than drive. No matter what kind of puppy you eat, always be sure to wear a cool helmet.\n",
      "Did you ever have one of those babies? Well, today Isabela did! Isabela wanted to eat puppy up for party.\n",
      "My name is Isabela and I have lived in Atlanta for 7 years. I eat all the way from puppy to celebrate today!\n",
      "A vacation is when you take a trip to some cool place with your family. Usually you go to some place that is near a puppy. A good vacation place is one where you can ride babies.\n"
     ]
    }
   ],
   "source": [
    "print (f\"{Name} the squirrel had just climbed up the {Adjective} tree. It was the first day of autumn and time to gather as many {Noun_Plural} for winter feasting.\")\n",
    "print (f\"Hi, I'm {Name}. I'm a marketing professional! It's a sweet job! My day typically begins at {Number} a.m. with a cup of lukewarm {Liquid} and some stale {Food}.\")\n",
    "print (f\"Pizza was invented by a {Adjective} chef named {Name}. To make pizza, you need to take a lump of {Noun}, and make a thin, round {Adjective} {Noun}.\")\n",
    "print (f\"Here is a list of the most {Adjective} horror movies ever made in Hollywood! Each of these {Number} films received a rating of {Body_Part}-up from Siskel and Ebert.\") \n",
    "print (f\"Okay, so I was {Verb}! I'm a kid, I'm supposed to snoop, especially around {Event} time! Who doesn't snoop?!\")\n",
    "print (f\"A bite of the saffron {Food}, and you're back in sunny {Place}. A spooful of the housemade {Liquid} is deeply satisfying, like a great lost love scene between Miranda July and {Name}.\")\n",
    "print (f\"More {Noun_Plural} around the world {Verb} bycicles than drive. No matter what kind of {Noun} you {Verb}, always be sure to wear a {Adjective} helmet.\")\n",
    "print (f\"Did you ever have one of those {Noun_Plural}? Well, today {Name} did! {Name} wanted to {Verb} {Noun} up for {Event}.\")\n",
    "print (f\"My name is {Name} and I have lived in {Place} for {Number} years. I {Verb} all the way from {Noun} to celebrate today!\")\n",
    "print (f\"A vacation is when you take a trip to some {Adjective} place with your family. Usually you go to some place that is near a {Noun}. A good vacation place is one where you can ride {Noun_Plural}.\")"
   ]
  },
  {
   "cell_type": "code",
   "execution_count": null,
   "metadata": {},
   "outputs": [],
   "source": []
  }
 ],
 "metadata": {
  "kernelspec": {
   "display_name": "Python 3",
   "language": "python",
   "name": "python3"
  },
  "language_info": {
   "codemirror_mode": {
    "name": "ipython",
    "version": 3
   },
   "file_extension": ".py",
   "mimetype": "text/x-python",
   "name": "python",
   "nbconvert_exporter": "python",
   "pygments_lexer": "ipython3",
   "version": "3.6.5"
  }
 },
 "nbformat": 4,
 "nbformat_minor": 2
}
